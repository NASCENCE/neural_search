{
 "cells": [
  {
   "cell_type": "markdown",
   "metadata": {},
   "source": [
    "# Search\n",
    "In this notebook we'll use a trained network to search for a configuration of input pins to produce the behaviour of some logical gate. "
   ]
  },
  {
   "cell_type": "code",
   "execution_count": 1,
   "metadata": {
    "collapsed": false
   },
   "outputs": [
    {
     "name": "stdout",
     "output_type": "stream",
     "text": [
      "No module named pycuda\n"
     ]
    }
   ],
   "source": [
    "from __future__ import division, print_function, unicode_literals, absolute_import\n",
    "\n",
    "import numpy as np\n",
    "import brainstorm as bs\n",
    "import h5py\n",
    "import matplotlib.pyplot as plt\n",
    "from matplotlib import cm\n",
    "from itertools import product\n",
    "\n",
    "%matplotlib inline"
   ]
  },
  {
   "cell_type": "code",
   "execution_count": 2,
   "metadata": {
    "collapsed": true
   },
   "outputs": [],
   "source": [
    "def generate_in_out(function, n=2, inp_values=(-1., 1.), inp_idxs=(0, 1), outp_values=(-1., 1.)):\n",
    "    \"\"\"\n",
    "    Generate list of desired inputs and outputs.\n",
    "    :param n: number of points per input combination (should be even)\n",
    "    :param function: the binary logical function to use\n",
    "    :param inp_values: values passed to the input pins that represent True and False\n",
    "    :param outp_values: values expected from the output pin that represent True and False\n",
    "    :param inp_idxs: indices of the input pins\n",
    "    \"\"\"\n",
    "    values = np.linspace(inp_values[0], inp_values[1], n)\n",
    "    truthy_values = np.zeros(n)\n",
    "    truthy_values[n//2:] = 1.0\n",
    "    inputs = list(product(values, values))\n",
    "    outputs = [outp_values[function(a, b)] for a, b in product(truthy_values, truthy_values)]\n",
    "    return inputs, outputs"
   ]
  },
  {
   "cell_type": "code",
   "execution_count": 3,
   "metadata": {
    "collapsed": true
   },
   "outputs": [],
   "source": [
    "def generate_random_inputs(inputs, outputs, inp_idxs=(0, 1), std=0.1):\n",
    "    \"\"\"Generate inputs and outputs with a random configuration\"\"\"\n",
    "    x = np.zeros((1, len(inputs), 8))\n",
    "    x[0, :, :] = np.random.randn(1, 8)*std\n",
    "    t = np.zeros((1, len(inputs), 1))\n",
    "    for i, ((in1, in2), o) in enumerate(zip(inputs, outputs)):\n",
    "        x[0, i, inp_idxs[0]] = in1\n",
    "        x[0, i, inp_idxs[1]] = in2\n",
    "        t[0, i, 0] = o \n",
    "    return x, t"
   ]
  },
  {
   "cell_type": "code",
   "execution_count": 4,
   "metadata": {
    "collapsed": true
   },
   "outputs": [],
   "source": [
    "def find_cfg(net, x, t, repetitions=1000, idxs=[0, 1], lr=0.003, verbosity=10):\n",
    "    \"\"\"Do SGD on the inputs while ignoring the given indices\"\"\"\n",
    "    learning_rate = lr\n",
    "    for i in range(repetitions):\n",
    "        net.provide_external_data(dict(input_data=x, targets=t))\n",
    "        net.forward_pass()\n",
    "        if verbosity and (i+1) % (repetitions/verbosity) == 0:\n",
    "            print(net.get_loss_value())\n",
    "            pass\n",
    "            \n",
    "        net.backward_pass()\n",
    "        d = net.buffer.backward.InputLayer.outputs.input_data\n",
    "        d = d.sum(axis=1)\n",
    "        d[0, idxs] = 0\n",
    "        x -= learning_rate * d.reshape(1, 1, 8)\n",
    "    return x, net.get_loss_value()"
   ]
  },
  {
   "cell_type": "markdown",
   "metadata": {},
   "source": [
    "## Get the network"
   ]
  },
  {
   "cell_type": "code",
   "execution_count": 5,
   "metadata": {
    "collapsed": true
   },
   "outputs": [],
   "source": [
    "from train_net import ex, build_network\n",
    "run = ex._create_run_for_command(\"print_config\", config_updates={}, named_configs_to_use={})\n",
    "weights = np.load('best_weights.npy')\n",
    "net = build_network()\n",
    "net.buffer.forward.parameters[:] = weights"
   ]
  },
  {
   "cell_type": "markdown",
   "metadata": {},
   "source": [
    "# Search for configurations"
   ]
  },
  {
   "cell_type": "markdown",
   "metadata": {},
   "source": [
    "## AND Gate\n",
    "First we need to generate the input data that we want to start with.\n",
    "\n",
    "It'll have one entry for each entry of the value-grid of two inputs that we want to match.\n",
    "The values for the configuration pins will be random, but the input pins and the targets will be fixed. "
   ]
  },
  {
   "cell_type": "code",
   "execution_count": 6,
   "metadata": {
    "collapsed": false
   },
   "outputs": [],
   "source": [
    "n = 2   # input grid resolution (should be an even number usually 2 or 4)\n",
    "inp_idxs = (0, 1)  # indices of the two input pins\n",
    "inp_values = (0, 1.)  # values to consider OFF and ON as inputs respectively\n",
    "outp_values = (0, 1.)  # values to consider OFF and ON as outputs respectively\n",
    "logical_func = np.logical_and  # the logical function to use\n",
    "\n",
    "inputs, outputs = generate_in_out(logical_func, n=n, inp_values=inp_values, \n",
    "                                  inp_idxs=inp_idxs, outp_values=outp_values)"
   ]
  },
  {
   "cell_type": "markdown",
   "metadata": {},
   "source": [
    "Now we'll search for good values for the configuration pins, keeping the input pins fixed and trying to match the target outputs. We do this in two steps:\n",
    "\n",
    "  1. randomly generate many starting points. Each one is only improved a bit\n",
    "  2. take the best starting point and optimize the shit out of it"
   ]
  },
  {
   "cell_type": "code",
   "execution_count": 9,
   "metadata": {
    "collapsed": false
   },
   "outputs": [
    {
     "name": "stdout",
     "output_type": "stream",
     "text": [
      "Randomly searching for a good starting point...\n",
      "  New best result from iteration 0: 0.124624960124\n",
      "  New best result from iteration 2: 0.122709199786\n",
      "  New best result from iteration 6: 0.119696319103\n",
      "  New best result from iteration 20: 0.103247463703\n",
      "  New best result from iteration 82: 0.0313341133296\n",
      "Refining...\n",
      "0.00330948270857\n",
      "0.00258344272152\n",
      "0.00245240959339\n",
      "0.00244843191467\n",
      "0.00244860351086\n",
      "\n",
      "Best Result: 0.00244860351086\n"
     ]
    }
   ],
   "source": [
    "nr_starting_points = 300\n",
    "epochs_for_start = 100\n",
    "epochs_for_final = 10000\n",
    "learning_rate_start = .1\n",
    "learning_rate_final = .01\n",
    "\n",
    "best_x = None\n",
    "best_loss = float('inf')\n",
    "print(\"Randomly searching for a good starting point...\")\n",
    "for i in range(nr_starting_points):\n",
    "    x, t = generate_random_inputs(inputs, outputs, inp_idxs=inp_idxs)\n",
    "    x, loss = find_cfg(net, x, t, epochs_for_start, lr=learning_rate_start, verbosity=0)\n",
    "    if loss < best_loss:\n",
    "        best_x = x\n",
    "        best_loss = loss\n",
    "        print(\"  New best result from iteration {}: {}\".format(i, best_loss))\n",
    "\n",
    "print('Refining...')\n",
    "x, loss = find_cfg(net, best_x, t, epochs_for_final, lr=learning_rate_final, verbosity=5)\n",
    "print('\\nBest Result:', loss)"
   ]
  },
  {
   "cell_type": "code",
   "execution_count": 11,
   "metadata": {
    "collapsed": false
   },
   "outputs": [
    {
     "data": {
      "text/plain": [
       "<matplotlib.text.Text at 0x7f8eb94c5510>"
      ]
     },
     "execution_count": 11,
     "metadata": {},
     "output_type": "execute_result"
    },
    {
     "data": {
      "image/png": "[encoded data removed]",
      "text/plain": [
       "<matplotlib.figure.Figure at 0x7f8ebd79d750>"
      ]
     },
     "metadata": {},
     "output_type": "display_data"
    }
   ],
   "source": [
    "net.provide_external_data(dict(input_data=x, targets=t))\n",
    "net.forward_pass()\n",
    "out = net.buffer.forward.SquaredDifferenceLayer.inputs.inputs_1.flatten()\n",
    "config_vis = np.array([\n",
    "    [4, 5, 6, 7],\n",
    "    [3, 0, 8, 6],\n",
    "    [2, 0, 0, 5],\n",
    "    [0, 1, 3, 4]]).flatten()\n",
    "\n",
    "m = np.zeros(len(config_vis))\n",
    "x_ = np.hstack(([0], x[0, 0].flatten()))\n",
    "m[:] = x_[config_vis]\n",
    "fig, axes = plt.subplots(ncols=3, figsize=(12, 4))\n",
    "vmin, vmax = outp_values[0] * 1.1, outp_values[1] * 1.1\n",
    "\n",
    "c = axes[0].matshow(t.reshape(n, n),vmin=vmin, vmax=vmax, cmap=cm.coolwarm)\n",
    "c = axes[1].matshow(out.reshape(n, n),vmin=vmin, vmax=vmax, cmap=cm.coolwarm)\n",
    "\n",
    "vrange = max(abs(m.min()), abs(m.max()))\n",
    "\n",
    "c = axes[2].matshow(m.reshape(4, 4), vmin=-vrange, vmax=vrange, cmap=cm.coolwarm)\n",
    "_ = fig.colorbar(c)\n",
    "\n",
    "axes[0].set_title('Target Output')\n",
    "axes[1].set_title('Actual Output')\n",
    "axes[2].set_title('Configuration Pins')"
   ]
  }
 ],
 "metadata": {
  "kernelspec": {
   "display_name": "Python 2",
   "language": "python",
   "name": "python2"
  },
  "language_info": {
   "codemirror_mode": {
    "name": "ipython",
    "version": 2
   },
   "file_extension": ".py",
   "mimetype": "text/x-python",
   "name": "python",
   "nbconvert_exporter": "python",
   "pygments_lexer": "ipython2",
   "version": "2.7.6"
  }
 },
 "nbformat": 4,
 "nbformat_minor": 0
}
