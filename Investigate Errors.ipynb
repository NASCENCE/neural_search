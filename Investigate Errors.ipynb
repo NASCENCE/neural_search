{
 "cells": [
  {
   "cell_type": "code",
   "execution_count": 1,
   "metadata": {
    "collapsed": false
   },
   "outputs": [
    {
     "name": "stdout",
     "output_type": "stream",
     "text": [
      "No module named pycuda\n"
     ]
    }
   ],
   "source": [
    "from __future__ import division, print_function, unicode_literals, absolute_import\n",
    "\n",
    "import numpy as np\n",
    "import brainstorm as bs\n",
    "import h5py\n",
    "import matplotlib.pyplot as plt\n",
    "%matplotlib inline"
   ]
  },
  {
   "cell_type": "code",
   "execution_count": 2,
   "metadata": {
    "collapsed": true
   },
   "outputs": [],
   "source": [
    "def normalize(data):\n",
    "    means = np.mean(data, axis=1)\n",
    "    stds = np.std(data, axis=1)\n",
    "    return (data - means) / stds, means, stds"
   ]
  },
  {
   "cell_type": "code",
   "execution_count": 3,
   "metadata": {
    "collapsed": true
   },
   "outputs": [],
   "source": [
    "ds = h5py.File('simdata2.hdf5', 'r')"
   ]
  },
  {
   "cell_type": "markdown",
   "metadata": {},
   "source": [
    "## Get a Network"
   ]
  },
  {
   "cell_type": "code",
   "execution_count": 4,
   "metadata": {
    "collapsed": true
   },
   "outputs": [],
   "source": [
    "from train_net import ex, build_network"
   ]
  },
  {
   "cell_type": "markdown",
   "metadata": {},
   "source": [
    "Here we'll use the standard configuration from the train_net file.  If you changed something about the network you need to add it into config_updates here like that:\n",
    "  \n",
    "    config_updates={'num_layers': 3}\n"
   ]
  },
  {
   "cell_type": "code",
   "execution_count": 5,
   "metadata": {
    "collapsed": false
   },
   "outputs": [],
   "source": [
    "run = ex._create_run_for_command(\"print_config\", config_updates={}, named_configs_to_use={})"
   ]
  },
  {
   "cell_type": "markdown",
   "metadata": {},
   "source": [
    "We'll load the weights from the file `best_weights.npy`:"
   ]
  },
  {
   "cell_type": "code",
   "execution_count": 7,
   "metadata": {
    "collapsed": false
   },
   "outputs": [],
   "source": [
    "weights = np.load('best_weights.npy')\n",
    "net = build_network()\n",
    "net.buffer.forward.parameters[:] = weights"
   ]
  },
  {
   "cell_type": "markdown",
   "metadata": {},
   "source": [
    "## Run on the dataset\n",
    "Now we'll run that network on the whole dataset and look at how much of the total error comes from each sample"
   ]
  },
  {
   "cell_type": "markdown",
   "metadata": {},
   "source": [
    "### training data"
   ]
  },
  {
   "cell_type": "code",
   "execution_count": 8,
   "metadata": {
    "collapsed": false
   },
   "outputs": [
    {
     "data": {
      "text/plain": [
       "(1, 899957, 1)"
      ]
     },
     "execution_count": 8,
     "metadata": {},
     "output_type": "execute_result"
    }
   ],
   "source": [
    "net.provide_external_data(ds['training'])\n",
    "net.forward_pass()\n",
    "all_losses = net.buffer.forward.SquaredDifferenceLayer.outputs.default\n",
    "all_losses.shape"
   ]
  },
  {
   "cell_type": "code",
   "execution_count": 9,
   "metadata": {
    "collapsed": false
   },
   "outputs": [],
   "source": [
    "# Sort by loss\n",
    "sort_idxs = np.argsort(all_losses.flatten())\n",
    "all_losses = np.sqrt(all_losses[0, sort_idxs, 0])\n",
    "targets = net.buffer.forward.SquaredDifferenceLayer.inputs.inputs_2[0, sort_idxs, 0]\n",
    "outputs = net.buffer.forward.SquaredDifferenceLayer.inputs.inputs_1[0, sort_idxs, 0]\n",
    "inputs = net.buffer.forward.InputLayer.outputs.input_data[0, sort_idxs, :]"
   ]
  },
  {
   "cell_type": "code",
   "execution_count": 10,
   "metadata": {
    "collapsed": false
   },
   "outputs": [
    {
     "data": {
      "image/png": "[encoded data removed]",
      "text/plain": [
       "<matplotlib.figure.Figure at 0x7f35e51cc7d0>"
      ]
     },
     "metadata": {},
     "output_type": "display_data"
    }
   ],
   "source": [
    "subset = slice(-5000, None)\n",
    "fig, axes = plt.subplots(nrows=2, ncols=2, figsize=(8, 8), sharex=True)\n",
    "lim = np.min(targets[subset]), np.max(targets[subset])\n",
    "axes[0, 0].plot(all_losses[subset])\n",
    "axes[0, 0].set_title('Loss')\n",
    "axes[1, 0].plot(targets[subset])\n",
    "axes[1, 0].set_ylim(*lim)\n",
    "axes[1, 0].set_title('Target')\n",
    "axes[1, 1].plot(outputs[subset])\n",
    "axes[1, 1].set_ylim(*lim)\n",
    "axes[1, 1].set_title('Output')\n",
    "axes[0, 1].set_visible(False)\n"
   ]
  },
  {
   "cell_type": "markdown",
   "metadata": {},
   "source": [
    "Wow it seems most of the error comes from the last 1500-2000 samples. The ANN can not make sense of those, so I'll remove them."
   ]
  },
  {
   "cell_type": "code",
   "execution_count": 11,
   "metadata": {
    "collapsed": false
   },
   "outputs": [],
   "source": [
    "new_train_data = inputs[:-1600]\n",
    "new_train_targets = targets[:-1600]\n",
    "idxs = np.arange(new_train_data.shape[0])\n",
    "np.random.shuffle(idxs)\n",
    "new_train_data = new_train_data[idxs].reshape(1, -1, 8)\n",
    "new_train_targets = new_train_targets[idxs].reshape(1, -1, 1)\n",
    "\n",
    "new_train_data, means, stds = normalize(new_train_data)\n",
    "new_train_targets, tmeans, tstds = normalize(new_train_targets)"
   ]
  },
  {
   "cell_type": "code",
   "execution_count": 12,
   "metadata": {
    "collapsed": false
   },
   "outputs": [
    {
     "data": {
      "text/plain": [
       "(1, 898357, 8)"
      ]
     },
     "execution_count": 12,
     "metadata": {},
     "output_type": "execute_result"
    }
   ],
   "source": [
    "new_train_data.shape"
   ]
  },
  {
   "cell_type": "code",
   "execution_count": 13,
   "metadata": {
    "collapsed": false
   },
   "outputs": [
    {
     "data": {
      "text/plain": [
       "(1, 898357, 1)"
      ]
     },
     "execution_count": 13,
     "metadata": {},
     "output_type": "execute_result"
    }
   ],
   "source": [
    "new_train_targets.shape"
   ]
  },
  {
   "cell_type": "markdown",
   "metadata": {},
   "source": [
    "### validation"
   ]
  },
  {
   "cell_type": "code",
   "execution_count": 14,
   "metadata": {
    "collapsed": false
   },
   "outputs": [
    {
     "data": {
      "text/plain": [
       "(1, 99995, 1)"
      ]
     },
     "execution_count": 14,
     "metadata": {},
     "output_type": "execute_result"
    }
   ],
   "source": [
    "net.provide_external_data(ds['validation'])\n",
    "net.forward_pass()\n",
    "all_losses = net.buffer.forward.SquaredDifferenceLayer.outputs.default\n",
    "all_losses.shape"
   ]
  },
  {
   "cell_type": "code",
   "execution_count": 15,
   "metadata": {
    "collapsed": true
   },
   "outputs": [],
   "source": [
    "sort_idxs = np.argsort(all_losses.flatten())"
   ]
  },
  {
   "cell_type": "code",
   "execution_count": 16,
   "metadata": {
    "collapsed": false
   },
   "outputs": [],
   "source": [
    "all_losses = np.sqrt(all_losses[0, sort_idxs, 0])\n",
    "targets = net.buffer.forward.SquaredDifferenceLayer.inputs.inputs_2[0, sort_idxs, 0]\n",
    "outputs = net.buffer.forward.SquaredDifferenceLayer.inputs.inputs_1[0, sort_idxs, 0]\n",
    "inputs = net.buffer.forward.InputLayer.outputs.input_data[0, sort_idxs, :]"
   ]
  },
  {
   "cell_type": "code",
   "execution_count": 17,
   "metadata": {
    "collapsed": false,
    "scrolled": false
   },
   "outputs": [
    {
     "data": {
      "image/png": "[encoded data removed]",
      "text/plain": [
       "<matplotlib.figure.Figure at 0x7f3508e45f50>"
      ]
     },
     "metadata": {},
     "output_type": "display_data"
    }
   ],
   "source": [
    "subset = slice(-500, None)\n",
    "fig, axes = plt.subplots(nrows=2, ncols=2, figsize=(8, 8), sharex=True)\n",
    "lim = np.min(targets[subset]), np.max(targets[subset])\n",
    "axes[0, 0].plot(all_losses[subset])\n",
    "axes[0, 0].set_title('Loss')\n",
    "axes[1, 0].plot(targets[subset])\n",
    "axes[1, 0].set_ylim(*lim)\n",
    "axes[1, 0].set_title('Target')\n",
    "axes[1, 1].plot(outputs[subset])\n",
    "axes[1, 1].set_ylim(*lim)\n",
    "axes[1, 1].set_title('Output')\n",
    "axes[0, 1].set_visible(False)"
   ]
  },
  {
   "cell_type": "code",
   "execution_count": 18,
   "metadata": {
    "collapsed": true
   },
   "outputs": [],
   "source": [
    "new_val_data = inputs[:-200]\n",
    "new_val_targets = targets[:-200]\n",
    "idxs = np.arange(new_val_data.shape[0])\n",
    "np.random.shuffle(idxs)\n",
    "new_val_data = new_val_data[idxs].reshape(1, -1, 8)\n",
    "new_val_targets = new_val_targets[idxs].reshape(1, -1, 1)\n",
    "\n",
    "new_val_data = (new_val_data - means) / stds\n",
    "new_val_targets = (new_val_targets - tmeans) / tstds"
   ]
  },
  {
   "cell_type": "code",
   "execution_count": 19,
   "metadata": {
    "collapsed": false
   },
   "outputs": [
    {
     "data": {
      "text/plain": [
       "(1, 99795, 1)"
      ]
     },
     "execution_count": 19,
     "metadata": {},
     "output_type": "execute_result"
    }
   ],
   "source": [
    "new_val_targets.shape"
   ]
  },
  {
   "cell_type": "markdown",
   "metadata": {
    "collapsed": true
   },
   "source": [
    "## Create a new cleaned dataset"
   ]
  },
  {
   "cell_type": "code",
   "execution_count": 52,
   "metadata": {
    "collapsed": false
   },
   "outputs": [],
   "source": [
    "with h5py.File('simdata2_cleaned.hdf5', 'w') as f:\n",
    "    f['training/input_data'] = new_train_data\n",
    "    f['training/input_data'].attrs['means'] = means\n",
    "    f['training/input_data'].attrs['stds'] = stds\n",
    "    f['training/targets'] = new_train_targets\n",
    "    f['training/targets'].attrs['means'] = tmeans\n",
    "    f['training/targets'].attrs['means'] = tstds\n",
    "\n",
    "    f['validation/input_data'] = new_val_data\n",
    "    f['validation/input_data'].attrs['means'] = means\n",
    "    f['validation/input_data'].attrs['stds'] = stds\n",
    "    f['validation/targets'] = new_val_targets\n",
    "    f['validation/targets'].attrs['means'] = tmeans\n",
    "    f['validation/targets'].attrs['means'] = tstds"
   ]
  }
 ],
 "metadata": {
  "kernelspec": {
   "display_name": "Python 2",
   "language": "python",
   "name": "python2"
  },
  "language_info": {
   "codemirror_mode": {
    "name": "ipython",
    "version": 2
   },
   "file_extension": ".py",
   "mimetype": "text/x-python",
   "name": "python",
   "nbconvert_exporter": "python",
   "pygments_lexer": "ipython2",
   "version": "2.7.6"
  }
 },
 "nbformat": 4,
 "nbformat_minor": 0
}
